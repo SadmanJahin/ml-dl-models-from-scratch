{
  "nbformat": 4,
  "nbformat_minor": 0,
  "metadata": {
    "colab": {
      "name": "Assignment3_PatternRecognition.ipynb",
      "provenance": [],
      "collapsed_sections": []
    },
    "kernelspec": {
      "name": "python3",
      "display_name": "Python 3"
    },
    "language_info": {
      "name": "python"
    }
  },
  "cells": [
    {
      "cell_type": "code",
      "execution_count": null,
      "metadata": {
        "id": "0HGqylufFt2s"
      },
      "outputs": [],
      "source": [
        "import numpy as np\n",
        "import matplotlib\n",
        "import matplotlib.pyplot as plt\n",
        "import pandas as pd\n",
        "import math\n",
        "from collections import Counter\n",
        "\n"
      ]
    },
    {
      "cell_type": "code",
      "source": [
        "df_train=pd.read_csv('train_knn.txt',sep=\",\", header=None)\n",
        "\n",
        "df_test=pd.read_csv('test_knn.txt',sep=\",\", header=None)"
      ],
      "metadata": {
        "id": "go9iJTc-JZ30"
      },
      "execution_count": null,
      "outputs": []
    },
    {
      "cell_type": "code",
      "source": [
        "points_x=[x for x in df_train[0]]\n",
        "points_y=[y for y in df_train[1]]\n",
        "labels=[label for label in df_train[2]]\n",
        "colors = ['red','green','blue','purple']\n",
        "\n",
        "\n",
        "fig = plt.figure(figsize=(6,6))\n",
        "plt.scatter(points_x, points_y, c=labels, cmap=matplotlib.colors.ListedColormap(colors))\n",
        "\n",
        "\n",
        "\n",
        "\n",
        "plt.show()"
      ],
      "metadata": {
        "colab": {
          "base_uri": "https://localhost:8080/",
          "height": 374
        },
        "id": "plnjAWY3X3fK",
        "outputId": "f9d09b67-e063-471b-80d3-5cbf757f6667"
      },
      "execution_count": null,
      "outputs": [
        {
          "output_type": "display_data",
          "data": {
            "image/png": "[encoded data removed]",
            "text/plain": [
              "<Figure size 432x432 with 1 Axes>"
            ]
          },
          "metadata": {
            "needs_background": "light"
          }
        }
      ]
    },
    {
      "cell_type": "code",
      "source": [
        "df_train"
      ],
      "metadata": {
        "colab": {
          "base_uri": "https://localhost:8080/",
          "height": 488
        },
        "id": "DoHb2ka3Jo9L",
        "outputId": "43903edb-da83-4287-c46a-7dc9aa697020"
      },
      "execution_count": null,
      "outputs": [
        {
          "output_type": "execute_result",
          "data": {
            "text/html": [
              "\n",
              "  <div id=\"df-68a1e42f-e829-4fe0-b07e-dadf1c538a2a\">\n",
              "    <div class=\"colab-df-container\">\n",
              "      <div>\n",
              "<style scoped>\n",
              "    .dataframe tbody tr th:only-of-type {\n",
              "        vertical-align: middle;\n",
              "    }\n",
              "\n",
              "    .dataframe tbody tr th {\n",
              "        vertical-align: top;\n",
              "    }\n",
              "\n",
              "    .dataframe thead th {\n",
              "        text-align: right;\n",
              "    }\n",
              "</style>\n",
              "<table border=\"1\" class=\"dataframe\">\n",
              "  <thead>\n",
              "    <tr style=\"text-align: right;\">\n",
              "      <th></th>\n",
              "      <th>0</th>\n",
              "      <th>1</th>\n",
              "      <th>2</th>\n",
              "    </tr>\n",
              "  </thead>\n",
              "  <tbody>\n",
              "    <tr>\n",
              "      <th>0</th>\n",
              "      <td>7</td>\n",
              "      <td>7</td>\n",
              "      <td>1</td>\n",
              "    </tr>\n",
              "    <tr>\n",
              "      <th>1</th>\n",
              "      <td>7</td>\n",
              "      <td>4</td>\n",
              "      <td>1</td>\n",
              "    </tr>\n",
              "    <tr>\n",
              "      <th>2</th>\n",
              "      <td>6</td>\n",
              "      <td>4</td>\n",
              "      <td>1</td>\n",
              "    </tr>\n",
              "    <tr>\n",
              "      <th>3</th>\n",
              "      <td>7</td>\n",
              "      <td>5</td>\n",
              "      <td>1</td>\n",
              "    </tr>\n",
              "    <tr>\n",
              "      <th>4</th>\n",
              "      <td>7</td>\n",
              "      <td>6</td>\n",
              "      <td>1</td>\n",
              "    </tr>\n",
              "    <tr>\n",
              "      <th>5</th>\n",
              "      <td>6</td>\n",
              "      <td>7</td>\n",
              "      <td>1</td>\n",
              "    </tr>\n",
              "    <tr>\n",
              "      <th>6</th>\n",
              "      <td>6</td>\n",
              "      <td>6</td>\n",
              "      <td>1</td>\n",
              "    </tr>\n",
              "    <tr>\n",
              "      <th>7</th>\n",
              "      <td>3</td>\n",
              "      <td>4</td>\n",
              "      <td>2</td>\n",
              "    </tr>\n",
              "    <tr>\n",
              "      <th>8</th>\n",
              "      <td>2</td>\n",
              "      <td>3</td>\n",
              "      <td>2</td>\n",
              "    </tr>\n",
              "    <tr>\n",
              "      <th>9</th>\n",
              "      <td>3</td>\n",
              "      <td>2</td>\n",
              "      <td>2</td>\n",
              "    </tr>\n",
              "    <tr>\n",
              "      <th>10</th>\n",
              "      <td>4</td>\n",
              "      <td>3</td>\n",
              "      <td>2</td>\n",
              "    </tr>\n",
              "    <tr>\n",
              "      <th>11</th>\n",
              "      <td>3</td>\n",
              "      <td>3</td>\n",
              "      <td>2</td>\n",
              "    </tr>\n",
              "    <tr>\n",
              "      <th>12</th>\n",
              "      <td>4</td>\n",
              "      <td>4</td>\n",
              "      <td>2</td>\n",
              "    </tr>\n",
              "    <tr>\n",
              "      <th>13</th>\n",
              "      <td>1</td>\n",
              "      <td>4</td>\n",
              "      <td>2</td>\n",
              "    </tr>\n",
              "  </tbody>\n",
              "</table>\n",
              "</div>\n",
              "      <button class=\"colab-df-convert\" onclick=\"convertToInteractive('df-68a1e42f-e829-4fe0-b07e-dadf1c538a2a')\"\n",
              "              title=\"Convert this dataframe to an interactive table.\"\n",
              "              style=\"display:none;\">\n",
              "        \n",
              "  <svg xmlns=\"http://www.w3.org/2000/svg\" height=\"24px\"viewBox=\"0 0 24 24\"\n",
              "       width=\"24px\">\n",
              "    <path d=\"M0 0h24v24H0V0z\" fill=\"none\"/>\n",
              "    <path d=\"M18.56 5.44l.94 2.06.94-2.06 2.06-.94-2.06-.94-.94-2.06-.94 2.06-2.06.94zm-11 1L8.5 8.5l.94-2.06 2.06-.94-2.06-.94L8.5 2.5l-.94 2.06-2.06.94zm10 10l.94 2.06.94-2.06 2.06-.94-2.06-.94-.94-2.06-.94 2.06-2.06.94z\"/><path d=\"M17.41 7.96l-1.37-1.37c-.4-.4-.92-.59-1.43-.59-.52 0-1.04.2-1.43.59L10.3 9.45l-7.72 7.72c-.78.78-.78 2.05 0 2.83L4 21.41c.39.39.9.59 1.41.59.51 0 1.02-.2 1.41-.59l7.78-7.78 2.81-2.81c.8-.78.8-2.07 0-2.86zM5.41 20L4 18.59l7.72-7.72 1.47 1.35L5.41 20z\"/>\n",
              "  </svg>\n",
              "      </button>\n",
              "      \n",
              "  <style>\n",
              "    .colab-df-container {\n",
              "      display:flex;\n",
              "      flex-wrap:wrap;\n",
              "      gap: 12px;\n",
              "    }\n",
              "\n",
              "    .colab-df-convert {\n",
              "      background-color: #E8F0FE;\n",
              "      border: none;\n",
              "      border-radius: 50%;\n",
              "      cursor: pointer;\n",
              "      display: none;\n",
              "      fill: #1967D2;\n",
              "      height: 32px;\n",
              "      padding: 0 0 0 0;\n",
              "      width: 32px;\n",
              "    }\n",
              "\n",
              "    .colab-df-convert:hover {\n",
              "      background-color: #E2EBFA;\n",
              "      box-shadow: 0px 1px 2px rgba(60, 64, 67, 0.3), 0px 1px 3px 1px rgba(60, 64, 67, 0.15);\n",
              "      fill: #174EA6;\n",
              "    }\n",
              "\n",
              "    [theme=dark] .colab-df-convert {\n",
              "      background-color: #3B4455;\n",
              "      fill: #D2E3FC;\n",
              "    }\n",
              "\n",
              "    [theme=dark] .colab-df-convert:hover {\n",
              "      background-color: #434B5C;\n",
              "      box-shadow: 0px 1px 3px 1px rgba(0, 0, 0, 0.15);\n",
              "      filter: drop-shadow(0px 1px 2px rgba(0, 0, 0, 0.3));\n",
              "      fill: #FFFFFF;\n",
              "    }\n",
              "  </style>\n",
              "\n",
              "      <script>\n",
              "        const buttonEl =\n",
              "          document.querySelector('#df-68a1e42f-e829-4fe0-b07e-dadf1c538a2a button.colab-df-convert');\n",
              "        buttonEl.style.display =\n",
              "          google.colab.kernel.accessAllowed ? 'block' : 'none';\n",
              "\n",
              "        async function convertToInteractive(key) {\n",
              "          const element = document.querySelector('#df-68a1e42f-e829-4fe0-b07e-dadf1c538a2a');\n",
              "          const dataTable =\n",
              "            await google.colab.kernel.invokeFunction('convertToInteractive',\n",
              "                                                     [key], {});\n",
              "          if (!dataTable) return;\n",
              "\n",
              "          const docLinkHtml = 'Like what you see? Visit the ' +\n",
              "            '<a target=\"_blank\" href=https://colab.research.google.com/notebooks/data_table.ipynb>data table notebook</a>'\n",
              "            + ' to learn more about interactive tables.';\n",
              "          element.innerHTML = '';\n",
              "          dataTable['output_type'] = 'display_data';\n",
              "          await google.colab.output.renderOutput(dataTable, element);\n",
              "          const docLink = document.createElement('div');\n",
              "          docLink.innerHTML = docLinkHtml;\n",
              "          element.appendChild(docLink);\n",
              "        }\n",
              "      </script>\n",
              "    </div>\n",
              "  </div>\n",
              "  "
            ],
            "text/plain": [
              "    0  1  2\n",
              "0   7  7  1\n",
              "1   7  4  1\n",
              "2   6  4  1\n",
              "3   7  5  1\n",
              "4   7  6  1\n",
              "5   6  7  1\n",
              "6   6  6  1\n",
              "7   3  4  2\n",
              "8   2  3  2\n",
              "9   3  2  2\n",
              "10  4  3  2\n",
              "11  3  3  2\n",
              "12  4  4  2\n",
              "13  1  4  2"
            ]
          },
          "metadata": {},
          "execution_count": 23
        }
      ]
    },
    {
      "cell_type": "code",
      "source": [
        "neighbours=int(input(\"Neighbours?: \"))"
      ],
      "metadata": {
        "colab": {
          "base_uri": "https://localhost:8080/"
        },
        "id": "ceLDoDMmJhVS",
        "outputId": "4afe86ee-9e65-4721-a1bb-7e335061c6c0"
      },
      "execution_count": null,
      "outputs": [
        {
          "name": "stdout",
          "output_type": "stream",
          "text": [
            "Neighbours?: 3\n"
          ]
        }
      ]
    },
    {
      "cell_type": "code",
      "source": [
        "class knnAlgorithm:\n",
        "\n",
        "  def predict(self,dataset,prediction,neighbours):\n",
        "      row=len(dataset)\n",
        "      result=[]*row\n",
        "      for x in range(row):\n",
        "          col_1= dataset.loc[x, 0]\n",
        "          col_2= dataset.loc[x, 1]\n",
        "          result.append(math.sqrt(pow(prediction[0]-col_1, 2)+pow(prediction[1]-col_2, 2)))\n",
        "      temp = result[:]\n",
        "      index=[]\n",
        "      result.sort()\n",
        "      for count,value in enumerate(result):\n",
        "          for idx,check in enumerate(temp):\n",
        "              if(check == value and (idx not in index) and len(index)<3):\n",
        "                  index.append(idx)\n",
        "                  \n",
        "          \n",
        "      prediction=[]\n",
        "      print(index)\n",
        "      for i,x in enumerate(index):\n",
        "          prediction.append(dataset.loc[x, 2])\n",
        "          print(\"Distance \",i+1,\": \",round(result[i],2),end=\" \")\n",
        "          print(\"Class: \",dataset.loc[x, 2])\n",
        "      mode = Counter(prediction)\n",
        "      mode.most_common(1)\n",
        "   \n",
        "      return mode.most_common(1)[0][0]\n",
        "    \n",
        "\n",
        "\n",
        "\n",
        "\n",
        "\n",
        "\n",
        "\n",
        "\n",
        "\n"
      ],
      "metadata": {
        "id": "HDgJW7beFy2r"
      },
      "execution_count": null,
      "outputs": []
    },
    {
      "cell_type": "code",
      "source": [
        "model1=knnAlgorithm()"
      ],
      "metadata": {
        "id": "ZMhct2CXLH8T"
      },
      "execution_count": null,
      "outputs": []
    },
    {
      "cell_type": "code",
      "source": [
        "xtest=df_test.values.tolist()\n",
        "for predict in xtest:\n",
        "    print(\"Test Point: \",predict,end=\" \")\n",
        "    prediction=model1.predict(df_train,predict,neighbours)\n",
        "    print(\"Predicted Class: \",prediction)"
      ],
      "metadata": {
        "colab": {
          "base_uri": "https://localhost:8080/"
        },
        "id": "GAtXhNHILLmi",
        "outputId": "31409f13-b203-47a7-e04a-a7e53523223a"
      },
      "execution_count": null,
      "outputs": [
        {
          "output_type": "stream",
          "name": "stdout",
          "text": [
            "Test Point:  [3, 7] [5, 7, 6]\n",
            "Distance  1 :  3.0 Class:  1\n",
            "Distance  2 :  3.0 Class:  2\n",
            "Distance  3 :  3.16 Class:  1\n",
            "Predicted Class:  1\n",
            "Test Point:  [7, 7] [0, 4, 5]\n",
            "Distance  1 :  0.0 Class:  1\n",
            "Distance  2 :  1.0 Class:  1\n",
            "Distance  3 :  1.0 Class:  1\n",
            "Predicted Class:  1\n",
            "Test Point:  [4, 3] [10, 11, 12]\n",
            "Distance  1 :  0.0 Class:  2\n",
            "Distance  2 :  1.0 Class:  2\n",
            "Distance  3 :  1.0 Class:  2\n",
            "Predicted Class:  2\n",
            "Test Point:  [2, 8] [5, 7, 13]\n",
            "Distance  1 :  4.12 Class:  1\n",
            "Distance  2 :  4.12 Class:  2\n",
            "Distance  3 :  4.12 Class:  2\n",
            "Predicted Class:  2\n",
            "Test Point:  [3, 5] [7, 12, 11]\n",
            "Distance  1 :  1.0 Class:  2\n",
            "Distance  2 :  1.41 Class:  2\n",
            "Distance  3 :  2.0 Class:  2\n",
            "Predicted Class:  2\n",
            "Test Point:  [1, 2] [8, 9, 13]\n",
            "Distance  1 :  1.41 Class:  2\n",
            "Distance  2 :  2.0 Class:  2\n",
            "Distance  3 :  2.0 Class:  2\n",
            "Predicted Class:  2\n",
            "Test Point:  [4, 8] [5, 6, 0]\n",
            "Distance  1 :  2.24 Class:  1\n",
            "Distance  2 :  2.83 Class:  1\n",
            "Distance  3 :  3.16 Class:  1\n",
            "Predicted Class:  1\n",
            "Test Point:  [8, 3] [1, 2, 3]\n",
            "Distance  1 :  1.41 Class:  1\n",
            "Distance  2 :  2.24 Class:  1\n",
            "Distance  3 :  2.24 Class:  1\n",
            "Predicted Class:  1\n",
            "Test Point:  [8, 4] [1, 3, 2]\n",
            "Distance  1 :  1.0 Class:  1\n",
            "Distance  2 :  1.41 Class:  1\n",
            "Distance  3 :  2.0 Class:  1\n",
            "Predicted Class:  1\n"
          ]
        }
      ]
    }
  ]
}