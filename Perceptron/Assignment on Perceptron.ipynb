{
  "nbformat": 4,
  "nbformat_minor": 0,
  "metadata": {
    "colab": {
      "name": "Assignment1.ipynb",
      "provenance": []
    },
    "kernelspec": {
      "name": "python3",
      "display_name": "Python 3"
    },
    "language_info": {
      "name": "python"
    }
  },
  "cells": [
    {
      "cell_type": "markdown",
      "source": [
        "Loading The Dataset"
      ],
      "metadata": {
        "id": "yjoOLMgQpHje"
      }
    },
    {
      "cell_type": "code",
      "source": [
        "import pandas as pd\n",
        "import matplotlib.pyplot as plt\n",
        "import numpy as np"
      ],
      "metadata": {
        "id": "FicJlmafnS3X"
      },
      "execution_count": null,
      "outputs": []
    },
    {
      "cell_type": "code",
      "source": [
        "df = pd.read_csv(\"train-perceptron.txt\",header=None,delimiter=' ',names=['x1','x2','class'])\n"
      ],
      "metadata": {
        "id": "2UVXzSpynXPI"
      },
      "execution_count": null,
      "outputs": []
    },
    {
      "cell_type": "code",
      "source": [
        "df"
      ],
      "metadata": {
        "colab": {
          "base_uri": "https://localhost:8080/",
          "height": 237
        },
        "id": "c0bL029G2m-V",
        "outputId": "1d393b3c-59ba-4f7d-fef9-78fc263cc746"
      },
      "execution_count": null,
      "outputs": [
        {
          "output_type": "execute_result",
          "data": {
            "text/html": [
              "\n",
              "  <div id=\"df-c1d3bd7b-80ac-48b1-b27b-f203acca7efd\">\n",
              "    <div class=\"colab-df-container\">\n",
              "      <div>\n",
              "<style scoped>\n",
              "    .dataframe tbody tr th:only-of-type {\n",
              "        vertical-align: middle;\n",
              "    }\n",
              "\n",
              "    .dataframe tbody tr th {\n",
              "        vertical-align: top;\n",
              "    }\n",
              "\n",
              "    .dataframe thead th {\n",
              "        text-align: right;\n",
              "    }\n",
              "</style>\n",
              "<table border=\"1\" class=\"dataframe\">\n",
              "  <thead>\n",
              "    <tr style=\"text-align: right;\">\n",
              "      <th></th>\n",
              "      <th>x1</th>\n",
              "      <th>x2</th>\n",
              "      <th>class</th>\n",
              "    </tr>\n",
              "  </thead>\n",
              "  <tbody>\n",
              "    <tr>\n",
              "      <th>0</th>\n",
              "      <td>1</td>\n",
              "      <td>1.0</td>\n",
              "      <td>1</td>\n",
              "    </tr>\n",
              "    <tr>\n",
              "      <th>1</th>\n",
              "      <td>1</td>\n",
              "      <td>-1.0</td>\n",
              "      <td>1</td>\n",
              "    </tr>\n",
              "    <tr>\n",
              "      <th>2</th>\n",
              "      <td>2</td>\n",
              "      <td>2.5</td>\n",
              "      <td>2</td>\n",
              "    </tr>\n",
              "    <tr>\n",
              "      <th>3</th>\n",
              "      <td>0</td>\n",
              "      <td>2.0</td>\n",
              "      <td>2</td>\n",
              "    </tr>\n",
              "    <tr>\n",
              "      <th>4</th>\n",
              "      <td>2</td>\n",
              "      <td>3.0</td>\n",
              "      <td>2</td>\n",
              "    </tr>\n",
              "    <tr>\n",
              "      <th>5</th>\n",
              "      <td>4</td>\n",
              "      <td>5.0</td>\n",
              "      <td>1</td>\n",
              "    </tr>\n",
              "  </tbody>\n",
              "</table>\n",
              "</div>\n",
              "      <button class=\"colab-df-convert\" onclick=\"convertToInteractive('df-c1d3bd7b-80ac-48b1-b27b-f203acca7efd')\"\n",
              "              title=\"Convert this dataframe to an interactive table.\"\n",
              "              style=\"display:none;\">\n",
              "        \n",
              "  <svg xmlns=\"http://www.w3.org/2000/svg\" height=\"24px\"viewBox=\"0 0 24 24\"\n",
              "       width=\"24px\">\n",
              "    <path d=\"M0 0h24v24H0V0z\" fill=\"none\"/>\n",
              "    <path d=\"M18.56 5.44l.94 2.06.94-2.06 2.06-.94-2.06-.94-.94-2.06-.94 2.06-2.06.94zm-11 1L8.5 8.5l.94-2.06 2.06-.94-2.06-.94L8.5 2.5l-.94 2.06-2.06.94zm10 10l.94 2.06.94-2.06 2.06-.94-2.06-.94-.94-2.06-.94 2.06-2.06.94z\"/><path d=\"M17.41 7.96l-1.37-1.37c-.4-.4-.92-.59-1.43-.59-.52 0-1.04.2-1.43.59L10.3 9.45l-7.72 7.72c-.78.78-.78 2.05 0 2.83L4 21.41c.39.39.9.59 1.41.59.51 0 1.02-.2 1.41-.59l7.78-7.78 2.81-2.81c.8-.78.8-2.07 0-2.86zM5.41 20L4 18.59l7.72-7.72 1.47 1.35L5.41 20z\"/>\n",
              "  </svg>\n",
              "      </button>\n",
              "      \n",
              "  <style>\n",
              "    .colab-df-container {\n",
              "      display:flex;\n",
              "      flex-wrap:wrap;\n",
              "      gap: 12px;\n",
              "    }\n",
              "\n",
              "    .colab-df-convert {\n",
              "      background-color: #E8F0FE;\n",
              "      border: none;\n",
              "      border-radius: 50%;\n",
              "      cursor: pointer;\n",
              "      display: none;\n",
              "      fill: #1967D2;\n",
              "      height: 32px;\n",
              "      padding: 0 0 0 0;\n",
              "      width: 32px;\n",
              "    }\n",
              "\n",
              "    .colab-df-convert:hover {\n",
              "      background-color: #E2EBFA;\n",
              "      box-shadow: 0px 1px 2px rgba(60, 64, 67, 0.3), 0px 1px 3px 1px rgba(60, 64, 67, 0.15);\n",
              "      fill: #174EA6;\n",
              "    }\n",
              "\n",
              "    [theme=dark] .colab-df-convert {\n",
              "      background-color: #3B4455;\n",
              "      fill: #D2E3FC;\n",
              "    }\n",
              "\n",
              "    [theme=dark] .colab-df-convert:hover {\n",
              "      background-color: #434B5C;\n",
              "      box-shadow: 0px 1px 3px 1px rgba(0, 0, 0, 0.15);\n",
              "      filter: drop-shadow(0px 1px 2px rgba(0, 0, 0, 0.3));\n",
              "      fill: #FFFFFF;\n",
              "    }\n",
              "  </style>\n",
              "\n",
              "      <script>\n",
              "        const buttonEl =\n",
              "          document.querySelector('#df-c1d3bd7b-80ac-48b1-b27b-f203acca7efd button.colab-df-convert');\n",
              "        buttonEl.style.display =\n",
              "          google.colab.kernel.accessAllowed ? 'block' : 'none';\n",
              "\n",
              "        async function convertToInteractive(key) {\n",
              "          const element = document.querySelector('#df-c1d3bd7b-80ac-48b1-b27b-f203acca7efd');\n",
              "          const dataTable =\n",
              "            await google.colab.kernel.invokeFunction('convertToInteractive',\n",
              "                                                     [key], {});\n",
              "          if (!dataTable) return;\n",
              "\n",
              "          const docLinkHtml = 'Like what you see? Visit the ' +\n",
              "            '<a target=\"_blank\" href=https://colab.research.google.com/notebooks/data_table.ipynb>data table notebook</a>'\n",
              "            + ' to learn more about interactive tables.';\n",
              "          element.innerHTML = '';\n",
              "          dataTable['output_type'] = 'display_data';\n",
              "          await google.colab.output.renderOutput(dataTable, element);\n",
              "          const docLink = document.createElement('div');\n",
              "          docLink.innerHTML = docLinkHtml;\n",
              "          element.appendChild(docLink);\n",
              "        }\n",
              "      </script>\n",
              "    </div>\n",
              "  </div>\n",
              "  "
            ],
            "text/plain": [
              "   x1   x2  class\n",
              "0   1  1.0      1\n",
              "1   1 -1.0      1\n",
              "2   2  2.5      2\n",
              "3   0  2.0      2\n",
              "4   2  3.0      2\n",
              "5   4  5.0      1"
            ]
          },
          "metadata": {},
          "execution_count": 9
        }
      ]
    },
    {
      "cell_type": "markdown",
      "source": [
        "Dividing the dataset based on class"
      ],
      "metadata": {
        "id": "tvSwfE--pMlW"
      }
    },
    {
      "cell_type": "code",
      "source": [
        "df_class1=df.query('`class` == 1')\n",
        "df_class2=df.query('`class` == 2')"
      ],
      "metadata": {
        "id": "Yvv_gk2-sBAy"
      },
      "execution_count": null,
      "outputs": []
    },
    {
      "cell_type": "code",
      "source": [
        "df_class1"
      ],
      "metadata": {
        "colab": {
          "base_uri": "https://localhost:8080/",
          "height": 143
        },
        "id": "Bt5aRnZsjivN",
        "outputId": "12571156-b222-4ae0-eb2f-c9e13ff597ec"
      },
      "execution_count": null,
      "outputs": [
        {
          "output_type": "execute_result",
          "data": {
            "text/html": [
              "\n",
              "  <div id=\"df-f1a1ce55-3470-4eeb-be7f-48e584ce1352\">\n",
              "    <div class=\"colab-df-container\">\n",
              "      <div>\n",
              "<style scoped>\n",
              "    .dataframe tbody tr th:only-of-type {\n",
              "        vertical-align: middle;\n",
              "    }\n",
              "\n",
              "    .dataframe tbody tr th {\n",
              "        vertical-align: top;\n",
              "    }\n",
              "\n",
              "    .dataframe thead th {\n",
              "        text-align: right;\n",
              "    }\n",
              "</style>\n",
              "<table border=\"1\" class=\"dataframe\">\n",
              "  <thead>\n",
              "    <tr style=\"text-align: right;\">\n",
              "      <th></th>\n",
              "      <th>x1</th>\n",
              "      <th>x2</th>\n",
              "      <th>class</th>\n",
              "    </tr>\n",
              "  </thead>\n",
              "  <tbody>\n",
              "    <tr>\n",
              "      <th>0</th>\n",
              "      <td>1</td>\n",
              "      <td>1.0</td>\n",
              "      <td>1</td>\n",
              "    </tr>\n",
              "    <tr>\n",
              "      <th>1</th>\n",
              "      <td>1</td>\n",
              "      <td>-1.0</td>\n",
              "      <td>1</td>\n",
              "    </tr>\n",
              "    <tr>\n",
              "      <th>5</th>\n",
              "      <td>4</td>\n",
              "      <td>5.0</td>\n",
              "      <td>1</td>\n",
              "    </tr>\n",
              "  </tbody>\n",
              "</table>\n",
              "</div>\n",
              "      <button class=\"colab-df-convert\" onclick=\"convertToInteractive('df-f1a1ce55-3470-4eeb-be7f-48e584ce1352')\"\n",
              "              title=\"Convert this dataframe to an interactive table.\"\n",
              "              style=\"display:none;\">\n",
              "        \n",
              "  <svg xmlns=\"http://www.w3.org/2000/svg\" height=\"24px\"viewBox=\"0 0 24 24\"\n",
              "       width=\"24px\">\n",
              "    <path d=\"M0 0h24v24H0V0z\" fill=\"none\"/>\n",
              "    <path d=\"M18.56 5.44l.94 2.06.94-2.06 2.06-.94-2.06-.94-.94-2.06-.94 2.06-2.06.94zm-11 1L8.5 8.5l.94-2.06 2.06-.94-2.06-.94L8.5 2.5l-.94 2.06-2.06.94zm10 10l.94 2.06.94-2.06 2.06-.94-2.06-.94-.94-2.06-.94 2.06-2.06.94z\"/><path d=\"M17.41 7.96l-1.37-1.37c-.4-.4-.92-.59-1.43-.59-.52 0-1.04.2-1.43.59L10.3 9.45l-7.72 7.72c-.78.78-.78 2.05 0 2.83L4 21.41c.39.39.9.59 1.41.59.51 0 1.02-.2 1.41-.59l7.78-7.78 2.81-2.81c.8-.78.8-2.07 0-2.86zM5.41 20L4 18.59l7.72-7.72 1.47 1.35L5.41 20z\"/>\n",
              "  </svg>\n",
              "      </button>\n",
              "      \n",
              "  <style>\n",
              "    .colab-df-container {\n",
              "      display:flex;\n",
              "      flex-wrap:wrap;\n",
              "      gap: 12px;\n",
              "    }\n",
              "\n",
              "    .colab-df-convert {\n",
              "      background-color: #E8F0FE;\n",
              "      border: none;\n",
              "      border-radius: 50%;\n",
              "      cursor: pointer;\n",
              "      display: none;\n",
              "      fill: #1967D2;\n",
              "      height: 32px;\n",
              "      padding: 0 0 0 0;\n",
              "      width: 32px;\n",
              "    }\n",
              "\n",
              "    .colab-df-convert:hover {\n",
              "      background-color: #E2EBFA;\n",
              "      box-shadow: 0px 1px 2px rgba(60, 64, 67, 0.3), 0px 1px 3px 1px rgba(60, 64, 67, 0.15);\n",
              "      fill: #174EA6;\n",
              "    }\n",
              "\n",
              "    [theme=dark] .colab-df-convert {\n",
              "      background-color: #3B4455;\n",
              "      fill: #D2E3FC;\n",
              "    }\n",
              "\n",
              "    [theme=dark] .colab-df-convert:hover {\n",
              "      background-color: #434B5C;\n",
              "      box-shadow: 0px 1px 3px 1px rgba(0, 0, 0, 0.15);\n",
              "      filter: drop-shadow(0px 1px 2px rgba(0, 0, 0, 0.3));\n",
              "      fill: #FFFFFF;\n",
              "    }\n",
              "  </style>\n",
              "\n",
              "      <script>\n",
              "        const buttonEl =\n",
              "          document.querySelector('#df-f1a1ce55-3470-4eeb-be7f-48e584ce1352 button.colab-df-convert');\n",
              "        buttonEl.style.display =\n",
              "          google.colab.kernel.accessAllowed ? 'block' : 'none';\n",
              "\n",
              "        async function convertToInteractive(key) {\n",
              "          const element = document.querySelector('#df-f1a1ce55-3470-4eeb-be7f-48e584ce1352');\n",
              "          const dataTable =\n",
              "            await google.colab.kernel.invokeFunction('convertToInteractive',\n",
              "                                                     [key], {});\n",
              "          if (!dataTable) return;\n",
              "\n",
              "          const docLinkHtml = 'Like what you see? Visit the ' +\n",
              "            '<a target=\"_blank\" href=https://colab.research.google.com/notebooks/data_table.ipynb>data table notebook</a>'\n",
              "            + ' to learn more about interactive tables.';\n",
              "          element.innerHTML = '';\n",
              "          dataTable['output_type'] = 'display_data';\n",
              "          await google.colab.output.renderOutput(dataTable, element);\n",
              "          const docLink = document.createElement('div');\n",
              "          docLink.innerHTML = docLinkHtml;\n",
              "          element.appendChild(docLink);\n",
              "        }\n",
              "      </script>\n",
              "    </div>\n",
              "  </div>\n",
              "  "
            ],
            "text/plain": [
              "   x1   x2  class\n",
              "0   1  1.0      1\n",
              "1   1 -1.0      1\n",
              "5   4  5.0      1"
            ]
          },
          "metadata": {},
          "execution_count": 41
        }
      ]
    },
    {
      "cell_type": "code",
      "source": [
        "df_class2"
      ],
      "metadata": {
        "colab": {
          "base_uri": "https://localhost:8080/",
          "height": 143
        },
        "id": "KXWyUxBOtMRM",
        "outputId": "b618995d-ab76-4651-8099-f79e4d61bf0a"
      },
      "execution_count": null,
      "outputs": [
        {
          "output_type": "execute_result",
          "data": {
            "text/html": [
              "\n",
              "  <div id=\"df-e86c2dfb-3125-4860-857a-4ec4bb73ba8b\">\n",
              "    <div class=\"colab-df-container\">\n",
              "      <div>\n",
              "<style scoped>\n",
              "    .dataframe tbody tr th:only-of-type {\n",
              "        vertical-align: middle;\n",
              "    }\n",
              "\n",
              "    .dataframe tbody tr th {\n",
              "        vertical-align: top;\n",
              "    }\n",
              "\n",
              "    .dataframe thead th {\n",
              "        text-align: right;\n",
              "    }\n",
              "</style>\n",
              "<table border=\"1\" class=\"dataframe\">\n",
              "  <thead>\n",
              "    <tr style=\"text-align: right;\">\n",
              "      <th></th>\n",
              "      <th>x1</th>\n",
              "      <th>x2</th>\n",
              "      <th>class</th>\n",
              "    </tr>\n",
              "  </thead>\n",
              "  <tbody>\n",
              "    <tr>\n",
              "      <th>2</th>\n",
              "      <td>2</td>\n",
              "      <td>2.5</td>\n",
              "      <td>2</td>\n",
              "    </tr>\n",
              "    <tr>\n",
              "      <th>3</th>\n",
              "      <td>0</td>\n",
              "      <td>2.0</td>\n",
              "      <td>2</td>\n",
              "    </tr>\n",
              "    <tr>\n",
              "      <th>4</th>\n",
              "      <td>2</td>\n",
              "      <td>3.0</td>\n",
              "      <td>2</td>\n",
              "    </tr>\n",
              "  </tbody>\n",
              "</table>\n",
              "</div>\n",
              "      <button class=\"colab-df-convert\" onclick=\"convertToInteractive('df-e86c2dfb-3125-4860-857a-4ec4bb73ba8b')\"\n",
              "              title=\"Convert this dataframe to an interactive table.\"\n",
              "              style=\"display:none;\">\n",
              "        \n",
              "  <svg xmlns=\"http://www.w3.org/2000/svg\" height=\"24px\"viewBox=\"0 0 24 24\"\n",
              "       width=\"24px\">\n",
              "    <path d=\"M0 0h24v24H0V0z\" fill=\"none\"/>\n",
              "    <path d=\"M18.56 5.44l.94 2.06.94-2.06 2.06-.94-2.06-.94-.94-2.06-.94 2.06-2.06.94zm-11 1L8.5 8.5l.94-2.06 2.06-.94-2.06-.94L8.5 2.5l-.94 2.06-2.06.94zm10 10l.94 2.06.94-2.06 2.06-.94-2.06-.94-.94-2.06-.94 2.06-2.06.94z\"/><path d=\"M17.41 7.96l-1.37-1.37c-.4-.4-.92-.59-1.43-.59-.52 0-1.04.2-1.43.59L10.3 9.45l-7.72 7.72c-.78.78-.78 2.05 0 2.83L4 21.41c.39.39.9.59 1.41.59.51 0 1.02-.2 1.41-.59l7.78-7.78 2.81-2.81c.8-.78.8-2.07 0-2.86zM5.41 20L4 18.59l7.72-7.72 1.47 1.35L5.41 20z\"/>\n",
              "  </svg>\n",
              "      </button>\n",
              "      \n",
              "  <style>\n",
              "    .colab-df-container {\n",
              "      display:flex;\n",
              "      flex-wrap:wrap;\n",
              "      gap: 12px;\n",
              "    }\n",
              "\n",
              "    .colab-df-convert {\n",
              "      background-color: #E8F0FE;\n",
              "      border: none;\n",
              "      border-radius: 50%;\n",
              "      cursor: pointer;\n",
              "      display: none;\n",
              "      fill: #1967D2;\n",
              "      height: 32px;\n",
              "      padding: 0 0 0 0;\n",
              "      width: 32px;\n",
              "    }\n",
              "\n",
              "    .colab-df-convert:hover {\n",
              "      background-color: #E2EBFA;\n",
              "      box-shadow: 0px 1px 2px rgba(60, 64, 67, 0.3), 0px 1px 3px 1px rgba(60, 64, 67, 0.15);\n",
              "      fill: #174EA6;\n",
              "    }\n",
              "\n",
              "    [theme=dark] .colab-df-convert {\n",
              "      background-color: #3B4455;\n",
              "      fill: #D2E3FC;\n",
              "    }\n",
              "\n",
              "    [theme=dark] .colab-df-convert:hover {\n",
              "      background-color: #434B5C;\n",
              "      box-shadow: 0px 1px 3px 1px rgba(0, 0, 0, 0.15);\n",
              "      filter: drop-shadow(0px 1px 2px rgba(0, 0, 0, 0.3));\n",
              "      fill: #FFFFFF;\n",
              "    }\n",
              "  </style>\n",
              "\n",
              "      <script>\n",
              "        const buttonEl =\n",
              "          document.querySelector('#df-e86c2dfb-3125-4860-857a-4ec4bb73ba8b button.colab-df-convert');\n",
              "        buttonEl.style.display =\n",
              "          google.colab.kernel.accessAllowed ? 'block' : 'none';\n",
              "\n",
              "        async function convertToInteractive(key) {\n",
              "          const element = document.querySelector('#df-e86c2dfb-3125-4860-857a-4ec4bb73ba8b');\n",
              "          const dataTable =\n",
              "            await google.colab.kernel.invokeFunction('convertToInteractive',\n",
              "                                                     [key], {});\n",
              "          if (!dataTable) return;\n",
              "\n",
              "          const docLinkHtml = 'Like what you see? Visit the ' +\n",
              "            '<a target=\"_blank\" href=https://colab.research.google.com/notebooks/data_table.ipynb>data table notebook</a>'\n",
              "            + ' to learn more about interactive tables.';\n",
              "          element.innerHTML = '';\n",
              "          dataTable['output_type'] = 'display_data';\n",
              "          await google.colab.output.renderOutput(dataTable, element);\n",
              "          const docLink = document.createElement('div');\n",
              "          docLink.innerHTML = docLinkHtml;\n",
              "          element.appendChild(docLink);\n",
              "        }\n",
              "      </script>\n",
              "    </div>\n",
              "  </div>\n",
              "  "
            ],
            "text/plain": [
              "   x1   x2  class\n",
              "2   2  2.5      2\n",
              "3   0  2.0      2\n",
              "4   2  3.0      2"
            ]
          },
          "metadata": {},
          "execution_count": 4
        }
      ]
    },
    {
      "cell_type": "markdown",
      "source": [
        "Plotting The Two Class Points"
      ],
      "metadata": {
        "id": "5Zjs7I6opRFt"
      }
    },
    {
      "cell_type": "code",
      "source": [
        "plt.plot(df_class1['x1'], df_class1['x2'],'o',color='red',ms=8)\n",
        "plt.plot(df_class2['x1'], df_class2['x2'],'o',color='blue',ms=8)\n",
        "plt.show()"
      ],
      "metadata": {
        "colab": {
          "base_uri": "https://localhost:8080/",
          "height": 265
        },
        "id": "tjbKmLq7mYNO",
        "outputId": "3ffce5af-fb62-4d1a-9bfb-9a7a8d26636b"
      },
      "execution_count": null,
      "outputs": [
        {
          "output_type": "display_data",
          "data": {
            "image/png": "[encoded data removed]",
            "text/plain": [
              "<Figure size 432x288 with 1 Axes>"
            ]
          },
          "metadata": {
            "needs_background": "light"
          }
        }
      ]
    },
    {
      "cell_type": "markdown",
      "source": [
        "Checking The points are linearly seperable.\n",
        "It is clearly seen the classes can not be seperated by linear decision boundary\n"
      ],
      "metadata": {
        "id": "Nyl5rdq_pVGU"
      }
    },
    {
      "cell_type": "code",
      "source": [
        "plt.plot(df_class1['x1'], df_class1['x2'],'o',color='red',ms=8)\n",
        "plt.plot(df_class2['x1'], df_class2['x2'],'o',color='blue',ms=8)\n",
        "plt.plot(df_class1['x1']+.3, ls = ':')\n",
        "plt.show()"
      ],
      "metadata": {
        "colab": {
          "base_uri": "https://localhost:8080/",
          "height": 265
        },
        "id": "h8L1EzuGvB-U",
        "outputId": "d0028a12-f375-456c-8f3a-d340df249e05"
      },
      "execution_count": null,
      "outputs": [
        {
          "output_type": "display_data",
          "data": {
            "image/png": "[encoded data removed]",
            "text/plain": [
              "<Figure size 432x288 with 1 Axes>"
            ]
          },
          "metadata": {
            "needs_background": "light"
          }
        }
      ]
    },
    {
      "cell_type": "markdown",
      "source": [
        "Taking High Order Dimension and normalizing the second class by negating"
      ],
      "metadata": {
        "id": "VP2Gw6vHpuDn"
      }
    },
    {
      "cell_type": "code",
      "source": [
        "df_class1[\"x1^2\"]=df_class1[\"x1\"]**2\n",
        "df_class1[\"x2^2\"]=df_class1[\"x2\"]**2\n",
        "df_class1[\"x1*x2\"]=df_class1[\"x1\"]*df_class1[\"x2\"]\n",
        "df_class1[\"1\"]=1\n",
        "df_class1=df_class1[['x1^2','x2^2','x1*x2','x1','x2','1','class']]\n",
        "df_class1"
      ],
      "metadata": {
        "colab": {
          "base_uri": "https://localhost:8080/",
          "height": 580
        },
        "id": "x0nAwRAtumbs",
        "outputId": "43f80292-8285-499e-fd05-c59ca09b2da1"
      },
      "execution_count": null,
      "outputs": [
        {
          "output_type": "stream",
          "name": "stderr",
          "text": [
            "/usr/local/lib/python3.7/dist-packages/ipykernel_launcher.py:1: SettingWithCopyWarning: \n",
            "A value is trying to be set on a copy of a slice from a DataFrame.\n",
            "Try using .loc[row_indexer,col_indexer] = value instead\n",
            "\n",
            "See the caveats in the documentation: https://pandas.pydata.org/pandas-docs/stable/user_guide/indexing.html#returning-a-view-versus-a-copy\n",
            "  \"\"\"Entry point for launching an IPython kernel.\n",
            "/usr/local/lib/python3.7/dist-packages/ipykernel_launcher.py:2: SettingWithCopyWarning: \n",
            "A value is trying to be set on a copy of a slice from a DataFrame.\n",
            "Try using .loc[row_indexer,col_indexer] = value instead\n",
            "\n",
            "See the caveats in the documentation: https://pandas.pydata.org/pandas-docs/stable/user_guide/indexing.html#returning-a-view-versus-a-copy\n",
            "  \n",
            "/usr/local/lib/python3.7/dist-packages/ipykernel_launcher.py:3: SettingWithCopyWarning: \n",
            "A value is trying to be set on a copy of a slice from a DataFrame.\n",
            "Try using .loc[row_indexer,col_indexer] = value instead\n",
            "\n",
            "See the caveats in the documentation: https://pandas.pydata.org/pandas-docs/stable/user_guide/indexing.html#returning-a-view-versus-a-copy\n",
            "  This is separate from the ipykernel package so we can avoid doing imports until\n",
            "/usr/local/lib/python3.7/dist-packages/ipykernel_launcher.py:4: SettingWithCopyWarning: \n",
            "A value is trying to be set on a copy of a slice from a DataFrame.\n",
            "Try using .loc[row_indexer,col_indexer] = value instead\n",
            "\n",
            "See the caveats in the documentation: https://pandas.pydata.org/pandas-docs/stable/user_guide/indexing.html#returning-a-view-versus-a-copy\n",
            "  after removing the cwd from sys.path.\n"
          ]
        },
        {
          "output_type": "execute_result",
          "data": {
            "text/html": [
              "\n",
              "  <div id=\"df-2f5c0a67-fc29-4203-84bd-f424dbeb7017\">\n",
              "    <div class=\"colab-df-container\">\n",
              "      <div>\n",
              "<style scoped>\n",
              "    .dataframe tbody tr th:only-of-type {\n",
              "        vertical-align: middle;\n",
              "    }\n",
              "\n",
              "    .dataframe tbody tr th {\n",
              "        vertical-align: top;\n",
              "    }\n",
              "\n",
              "    .dataframe thead th {\n",
              "        text-align: right;\n",
              "    }\n",
              "</style>\n",
              "<table border=\"1\" class=\"dataframe\">\n",
              "  <thead>\n",
              "    <tr style=\"text-align: right;\">\n",
              "      <th></th>\n",
              "      <th>x1^2</th>\n",
              "      <th>x2^2</th>\n",
              "      <th>x1*x2</th>\n",
              "      <th>x1</th>\n",
              "      <th>x2</th>\n",
              "      <th>1</th>\n",
              "      <th>class</th>\n",
              "    </tr>\n",
              "  </thead>\n",
              "  <tbody>\n",
              "    <tr>\n",
              "      <th>0</th>\n",
              "      <td>1</td>\n",
              "      <td>1.0</td>\n",
              "      <td>1.0</td>\n",
              "      <td>1</td>\n",
              "      <td>1.0</td>\n",
              "      <td>1</td>\n",
              "      <td>1</td>\n",
              "    </tr>\n",
              "    <tr>\n",
              "      <th>1</th>\n",
              "      <td>1</td>\n",
              "      <td>1.0</td>\n",
              "      <td>-1.0</td>\n",
              "      <td>1</td>\n",
              "      <td>-1.0</td>\n",
              "      <td>1</td>\n",
              "      <td>1</td>\n",
              "    </tr>\n",
              "    <tr>\n",
              "      <th>5</th>\n",
              "      <td>16</td>\n",
              "      <td>25.0</td>\n",
              "      <td>20.0</td>\n",
              "      <td>4</td>\n",
              "      <td>5.0</td>\n",
              "      <td>1</td>\n",
              "      <td>1</td>\n",
              "    </tr>\n",
              "  </tbody>\n",
              "</table>\n",
              "</div>\n",
              "      <button class=\"colab-df-convert\" onclick=\"convertToInteractive('df-2f5c0a67-fc29-4203-84bd-f424dbeb7017')\"\n",
              "              title=\"Convert this dataframe to an interactive table.\"\n",
              "              style=\"display:none;\">\n",
              "        \n",
              "  <svg xmlns=\"http://www.w3.org/2000/svg\" height=\"24px\"viewBox=\"0 0 24 24\"\n",
              "       width=\"24px\">\n",
              "    <path d=\"M0 0h24v24H0V0z\" fill=\"none\"/>\n",
              "    <path d=\"M18.56 5.44l.94 2.06.94-2.06 2.06-.94-2.06-.94-.94-2.06-.94 2.06-2.06.94zm-11 1L8.5 8.5l.94-2.06 2.06-.94-2.06-.94L8.5 2.5l-.94 2.06-2.06.94zm10 10l.94 2.06.94-2.06 2.06-.94-2.06-.94-.94-2.06-.94 2.06-2.06.94z\"/><path d=\"M17.41 7.96l-1.37-1.37c-.4-.4-.92-.59-1.43-.59-.52 0-1.04.2-1.43.59L10.3 9.45l-7.72 7.72c-.78.78-.78 2.05 0 2.83L4 21.41c.39.39.9.59 1.41.59.51 0 1.02-.2 1.41-.59l7.78-7.78 2.81-2.81c.8-.78.8-2.07 0-2.86zM5.41 20L4 18.59l7.72-7.72 1.47 1.35L5.41 20z\"/>\n",
              "  </svg>\n",
              "      </button>\n",
              "      \n",
              "  <style>\n",
              "    .colab-df-container {\n",
              "      display:flex;\n",
              "      flex-wrap:wrap;\n",
              "      gap: 12px;\n",
              "    }\n",
              "\n",
              "    .colab-df-convert {\n",
              "      background-color: #E8F0FE;\n",
              "      border: none;\n",
              "      border-radius: 50%;\n",
              "      cursor: pointer;\n",
              "      display: none;\n",
              "      fill: #1967D2;\n",
              "      height: 32px;\n",
              "      padding: 0 0 0 0;\n",
              "      width: 32px;\n",
              "    }\n",
              "\n",
              "    .colab-df-convert:hover {\n",
              "      background-color: #E2EBFA;\n",
              "      box-shadow: 0px 1px 2px rgba(60, 64, 67, 0.3), 0px 1px 3px 1px rgba(60, 64, 67, 0.15);\n",
              "      fill: #174EA6;\n",
              "    }\n",
              "\n",
              "    [theme=dark] .colab-df-convert {\n",
              "      background-color: #3B4455;\n",
              "      fill: #D2E3FC;\n",
              "    }\n",
              "\n",
              "    [theme=dark] .colab-df-convert:hover {\n",
              "      background-color: #434B5C;\n",
              "      box-shadow: 0px 1px 3px 1px rgba(0, 0, 0, 0.15);\n",
              "      filter: drop-shadow(0px 1px 2px rgba(0, 0, 0, 0.3));\n",
              "      fill: #FFFFFF;\n",
              "    }\n",
              "  </style>\n",
              "\n",
              "      <script>\n",
              "        const buttonEl =\n",
              "          document.querySelector('#df-2f5c0a67-fc29-4203-84bd-f424dbeb7017 button.colab-df-convert');\n",
              "        buttonEl.style.display =\n",
              "          google.colab.kernel.accessAllowed ? 'block' : 'none';\n",
              "\n",
              "        async function convertToInteractive(key) {\n",
              "          const element = document.querySelector('#df-2f5c0a67-fc29-4203-84bd-f424dbeb7017');\n",
              "          const dataTable =\n",
              "            await google.colab.kernel.invokeFunction('convertToInteractive',\n",
              "                                                     [key], {});\n",
              "          if (!dataTable) return;\n",
              "\n",
              "          const docLinkHtml = 'Like what you see? Visit the ' +\n",
              "            '<a target=\"_blank\" href=https://colab.research.google.com/notebooks/data_table.ipynb>data table notebook</a>'\n",
              "            + ' to learn more about interactive tables.';\n",
              "          element.innerHTML = '';\n",
              "          dataTable['output_type'] = 'display_data';\n",
              "          await google.colab.output.renderOutput(dataTable, element);\n",
              "          const docLink = document.createElement('div');\n",
              "          docLink.innerHTML = docLinkHtml;\n",
              "          element.appendChild(docLink);\n",
              "        }\n",
              "      </script>\n",
              "    </div>\n",
              "  </div>\n",
              "  "
            ],
            "text/plain": [
              "   x1^2  x2^2  x1*x2  x1   x2  1  class\n",
              "0     1   1.0    1.0   1  1.0  1      1\n",
              "1     1   1.0   -1.0   1 -1.0  1      1\n",
              "5    16  25.0   20.0   4  5.0  1      1"
            ]
          },
          "metadata": {},
          "execution_count": 7
        }
      ]
    },
    {
      "cell_type": "code",
      "source": [
        "df_class2[\"x1^2\"]=df_class2[\"x1\"]**2*-1\n",
        "df_class2[\"x2^2\"]=df_class2[\"x2\"]**2*-1\n",
        "df_class2[\"x1*x2\"]=df_class2[\"x1\"]*df_class2[\"x2\"]*-1\n",
        "df_class2[\"1\"]=1*-1\n",
        "df_class2[\"x1\"]*=-1\n",
        "df_class2[\"x2\"]*=-1\n",
        "df_class2=df_class2[['x1^2','x2^2','x1*x2','x1','x2','1','class']]\n",
        "df_class2"
      ],
      "metadata": {
        "colab": {
          "base_uri": "https://localhost:8080/",
          "height": 143
        },
        "id": "Woogir6zyvd_",
        "outputId": "869c388c-8ce7-4507-80c7-4d7dc7bbb28e"
      },
      "execution_count": null,
      "outputs": [
        {
          "output_type": "execute_result",
          "data": {
            "text/html": [
              "\n",
              "  <div id=\"df-ba18bed7-2cb8-44f2-86b7-557efe7cb3f5\">\n",
              "    <div class=\"colab-df-container\">\n",
              "      <div>\n",
              "<style scoped>\n",
              "    .dataframe tbody tr th:only-of-type {\n",
              "        vertical-align: middle;\n",
              "    }\n",
              "\n",
              "    .dataframe tbody tr th {\n",
              "        vertical-align: top;\n",
              "    }\n",
              "\n",
              "    .dataframe thead th {\n",
              "        text-align: right;\n",
              "    }\n",
              "</style>\n",
              "<table border=\"1\" class=\"dataframe\">\n",
              "  <thead>\n",
              "    <tr style=\"text-align: right;\">\n",
              "      <th></th>\n",
              "      <th>x1^2</th>\n",
              "      <th>x2^2</th>\n",
              "      <th>x1*x2</th>\n",
              "      <th>x1</th>\n",
              "      <th>x2</th>\n",
              "      <th>1</th>\n",
              "      <th>class</th>\n",
              "    </tr>\n",
              "  </thead>\n",
              "  <tbody>\n",
              "    <tr>\n",
              "      <th>2</th>\n",
              "      <td>-4</td>\n",
              "      <td>-6.25</td>\n",
              "      <td>-5.0</td>\n",
              "      <td>-2</td>\n",
              "      <td>-2.5</td>\n",
              "      <td>-1</td>\n",
              "      <td>2</td>\n",
              "    </tr>\n",
              "    <tr>\n",
              "      <th>3</th>\n",
              "      <td>0</td>\n",
              "      <td>-4.00</td>\n",
              "      <td>-0.0</td>\n",
              "      <td>0</td>\n",
              "      <td>-2.0</td>\n",
              "      <td>-1</td>\n",
              "      <td>2</td>\n",
              "    </tr>\n",
              "    <tr>\n",
              "      <th>4</th>\n",
              "      <td>-4</td>\n",
              "      <td>-9.00</td>\n",
              "      <td>-6.0</td>\n",
              "      <td>-2</td>\n",
              "      <td>-3.0</td>\n",
              "      <td>-1</td>\n",
              "      <td>2</td>\n",
              "    </tr>\n",
              "  </tbody>\n",
              "</table>\n",
              "</div>\n",
              "      <button class=\"colab-df-convert\" onclick=\"convertToInteractive('df-ba18bed7-2cb8-44f2-86b7-557efe7cb3f5')\"\n",
              "              title=\"Convert this dataframe to an interactive table.\"\n",
              "              style=\"display:none;\">\n",
              "        \n",
              "  <svg xmlns=\"http://www.w3.org/2000/svg\" height=\"24px\"viewBox=\"0 0 24 24\"\n",
              "       width=\"24px\">\n",
              "    <path d=\"M0 0h24v24H0V0z\" fill=\"none\"/>\n",
              "    <path d=\"M18.56 5.44l.94 2.06.94-2.06 2.06-.94-2.06-.94-.94-2.06-.94 2.06-2.06.94zm-11 1L8.5 8.5l.94-2.06 2.06-.94-2.06-.94L8.5 2.5l-.94 2.06-2.06.94zm10 10l.94 2.06.94-2.06 2.06-.94-2.06-.94-.94-2.06-.94 2.06-2.06.94z\"/><path d=\"M17.41 7.96l-1.37-1.37c-.4-.4-.92-.59-1.43-.59-.52 0-1.04.2-1.43.59L10.3 9.45l-7.72 7.72c-.78.78-.78 2.05 0 2.83L4 21.41c.39.39.9.59 1.41.59.51 0 1.02-.2 1.41-.59l7.78-7.78 2.81-2.81c.8-.78.8-2.07 0-2.86zM5.41 20L4 18.59l7.72-7.72 1.47 1.35L5.41 20z\"/>\n",
              "  </svg>\n",
              "      </button>\n",
              "      \n",
              "  <style>\n",
              "    .colab-df-container {\n",
              "      display:flex;\n",
              "      flex-wrap:wrap;\n",
              "      gap: 12px;\n",
              "    }\n",
              "\n",
              "    .colab-df-convert {\n",
              "      background-color: #E8F0FE;\n",
              "      border: none;\n",
              "      border-radius: 50%;\n",
              "      cursor: pointer;\n",
              "      display: none;\n",
              "      fill: #1967D2;\n",
              "      height: 32px;\n",
              "      padding: 0 0 0 0;\n",
              "      width: 32px;\n",
              "    }\n",
              "\n",
              "    .colab-df-convert:hover {\n",
              "      background-color: #E2EBFA;\n",
              "      box-shadow: 0px 1px 2px rgba(60, 64, 67, 0.3), 0px 1px 3px 1px rgba(60, 64, 67, 0.15);\n",
              "      fill: #174EA6;\n",
              "    }\n",
              "\n",
              "    [theme=dark] .colab-df-convert {\n",
              "      background-color: #3B4455;\n",
              "      fill: #D2E3FC;\n",
              "    }\n",
              "\n",
              "    [theme=dark] .colab-df-convert:hover {\n",
              "      background-color: #434B5C;\n",
              "      box-shadow: 0px 1px 3px 1px rgba(0, 0, 0, 0.15);\n",
              "      filter: drop-shadow(0px 1px 2px rgba(0, 0, 0, 0.3));\n",
              "      fill: #FFFFFF;\n",
              "    }\n",
              "  </style>\n",
              "\n",
              "      <script>\n",
              "        const buttonEl =\n",
              "          document.querySelector('#df-ba18bed7-2cb8-44f2-86b7-557efe7cb3f5 button.colab-df-convert');\n",
              "        buttonEl.style.display =\n",
              "          google.colab.kernel.accessAllowed ? 'block' : 'none';\n",
              "\n",
              "        async function convertToInteractive(key) {\n",
              "          const element = document.querySelector('#df-ba18bed7-2cb8-44f2-86b7-557efe7cb3f5');\n",
              "          const dataTable =\n",
              "            await google.colab.kernel.invokeFunction('convertToInteractive',\n",
              "                                                     [key], {});\n",
              "          if (!dataTable) return;\n",
              "\n",
              "          const docLinkHtml = 'Like what you see? Visit the ' +\n",
              "            '<a target=\"_blank\" href=https://colab.research.google.com/notebooks/data_table.ipynb>data table notebook</a>'\n",
              "            + ' to learn more about interactive tables.';\n",
              "          element.innerHTML = '';\n",
              "          dataTable['output_type'] = 'display_data';\n",
              "          await google.colab.output.renderOutput(dataTable, element);\n",
              "          const docLink = document.createElement('div');\n",
              "          docLink.innerHTML = docLinkHtml;\n",
              "          element.appendChild(docLink);\n",
              "        }\n",
              "      </script>\n",
              "    </div>\n",
              "  </div>\n",
              "  "
            ],
            "text/plain": [
              "   x1^2  x2^2  x1*x2  x1   x2  1  class\n",
              "2    -4 -6.25   -5.0  -2 -2.5 -1      2\n",
              "3     0 -4.00   -0.0   0 -2.0 -1      2\n",
              "4    -4 -9.00   -6.0  -2 -3.0 -1      2"
            ]
          },
          "metadata": {},
          "execution_count": 11
        }
      ]
    },
    {
      "cell_type": "markdown",
      "source": [
        "Concating Both Classes"
      ],
      "metadata": {
        "id": "uM6vuPjTp4TM"
      }
    },
    {
      "cell_type": "code",
      "source": [
        "df = pd.concat([df_class1, df_class2], axis=0)\n",
        "df"
      ],
      "metadata": {
        "colab": {
          "base_uri": "https://localhost:8080/",
          "height": 237
        },
        "id": "lHOb6evd79y4",
        "outputId": "b2112dcd-4537-410c-9fe0-80aec4f3ec2b"
      },
      "execution_count": null,
      "outputs": [
        {
          "output_type": "execute_result",
          "data": {
            "text/html": [
              "\n",
              "  <div id=\"df-8c233ecc-ce82-4b33-8fe0-824e7b3cf194\">\n",
              "    <div class=\"colab-df-container\">\n",
              "      <div>\n",
              "<style scoped>\n",
              "    .dataframe tbody tr th:only-of-type {\n",
              "        vertical-align: middle;\n",
              "    }\n",
              "\n",
              "    .dataframe tbody tr th {\n",
              "        vertical-align: top;\n",
              "    }\n",
              "\n",
              "    .dataframe thead th {\n",
              "        text-align: right;\n",
              "    }\n",
              "</style>\n",
              "<table border=\"1\" class=\"dataframe\">\n",
              "  <thead>\n",
              "    <tr style=\"text-align: right;\">\n",
              "      <th></th>\n",
              "      <th>x1^2</th>\n",
              "      <th>x2^2</th>\n",
              "      <th>x1*x2</th>\n",
              "      <th>x1</th>\n",
              "      <th>x2</th>\n",
              "      <th>1</th>\n",
              "      <th>class</th>\n",
              "    </tr>\n",
              "  </thead>\n",
              "  <tbody>\n",
              "    <tr>\n",
              "      <th>0</th>\n",
              "      <td>1</td>\n",
              "      <td>1.00</td>\n",
              "      <td>1.0</td>\n",
              "      <td>1</td>\n",
              "      <td>1.0</td>\n",
              "      <td>1</td>\n",
              "      <td>1</td>\n",
              "    </tr>\n",
              "    <tr>\n",
              "      <th>1</th>\n",
              "      <td>1</td>\n",
              "      <td>1.00</td>\n",
              "      <td>-1.0</td>\n",
              "      <td>1</td>\n",
              "      <td>-1.0</td>\n",
              "      <td>1</td>\n",
              "      <td>1</td>\n",
              "    </tr>\n",
              "    <tr>\n",
              "      <th>5</th>\n",
              "      <td>16</td>\n",
              "      <td>25.00</td>\n",
              "      <td>20.0</td>\n",
              "      <td>4</td>\n",
              "      <td>5.0</td>\n",
              "      <td>1</td>\n",
              "      <td>1</td>\n",
              "    </tr>\n",
              "    <tr>\n",
              "      <th>2</th>\n",
              "      <td>-4</td>\n",
              "      <td>-6.25</td>\n",
              "      <td>-5.0</td>\n",
              "      <td>-2</td>\n",
              "      <td>-2.5</td>\n",
              "      <td>-1</td>\n",
              "      <td>2</td>\n",
              "    </tr>\n",
              "    <tr>\n",
              "      <th>3</th>\n",
              "      <td>0</td>\n",
              "      <td>-4.00</td>\n",
              "      <td>-0.0</td>\n",
              "      <td>0</td>\n",
              "      <td>-2.0</td>\n",
              "      <td>-1</td>\n",
              "      <td>2</td>\n",
              "    </tr>\n",
              "    <tr>\n",
              "      <th>4</th>\n",
              "      <td>-4</td>\n",
              "      <td>-9.00</td>\n",
              "      <td>-6.0</td>\n",
              "      <td>-2</td>\n",
              "      <td>-3.0</td>\n",
              "      <td>-1</td>\n",
              "      <td>2</td>\n",
              "    </tr>\n",
              "  </tbody>\n",
              "</table>\n",
              "</div>\n",
              "      <button class=\"colab-df-convert\" onclick=\"convertToInteractive('df-8c233ecc-ce82-4b33-8fe0-824e7b3cf194')\"\n",
              "              title=\"Convert this dataframe to an interactive table.\"\n",
              "              style=\"display:none;\">\n",
              "        \n",
              "  <svg xmlns=\"http://www.w3.org/2000/svg\" height=\"24px\"viewBox=\"0 0 24 24\"\n",
              "       width=\"24px\">\n",
              "    <path d=\"M0 0h24v24H0V0z\" fill=\"none\"/>\n",
              "    <path d=\"M18.56 5.44l.94 2.06.94-2.06 2.06-.94-2.06-.94-.94-2.06-.94 2.06-2.06.94zm-11 1L8.5 8.5l.94-2.06 2.06-.94-2.06-.94L8.5 2.5l-.94 2.06-2.06.94zm10 10l.94 2.06.94-2.06 2.06-.94-2.06-.94-.94-2.06-.94 2.06-2.06.94z\"/><path d=\"M17.41 7.96l-1.37-1.37c-.4-.4-.92-.59-1.43-.59-.52 0-1.04.2-1.43.59L10.3 9.45l-7.72 7.72c-.78.78-.78 2.05 0 2.83L4 21.41c.39.39.9.59 1.41.59.51 0 1.02-.2 1.41-.59l7.78-7.78 2.81-2.81c.8-.78.8-2.07 0-2.86zM5.41 20L4 18.59l7.72-7.72 1.47 1.35L5.41 20z\"/>\n",
              "  </svg>\n",
              "      </button>\n",
              "      \n",
              "  <style>\n",
              "    .colab-df-container {\n",
              "      display:flex;\n",
              "      flex-wrap:wrap;\n",
              "      gap: 12px;\n",
              "    }\n",
              "\n",
              "    .colab-df-convert {\n",
              "      background-color: #E8F0FE;\n",
              "      border: none;\n",
              "      border-radius: 50%;\n",
              "      cursor: pointer;\n",
              "      display: none;\n",
              "      fill: #1967D2;\n",
              "      height: 32px;\n",
              "      padding: 0 0 0 0;\n",
              "      width: 32px;\n",
              "    }\n",
              "\n",
              "    .colab-df-convert:hover {\n",
              "      background-color: #E2EBFA;\n",
              "      box-shadow: 0px 1px 2px rgba(60, 64, 67, 0.3), 0px 1px 3px 1px rgba(60, 64, 67, 0.15);\n",
              "      fill: #174EA6;\n",
              "    }\n",
              "\n",
              "    [theme=dark] .colab-df-convert {\n",
              "      background-color: #3B4455;\n",
              "      fill: #D2E3FC;\n",
              "    }\n",
              "\n",
              "    [theme=dark] .colab-df-convert:hover {\n",
              "      background-color: #434B5C;\n",
              "      box-shadow: 0px 1px 3px 1px rgba(0, 0, 0, 0.15);\n",
              "      filter: drop-shadow(0px 1px 2px rgba(0, 0, 0, 0.3));\n",
              "      fill: #FFFFFF;\n",
              "    }\n",
              "  </style>\n",
              "\n",
              "      <script>\n",
              "        const buttonEl =\n",
              "          document.querySelector('#df-8c233ecc-ce82-4b33-8fe0-824e7b3cf194 button.colab-df-convert');\n",
              "        buttonEl.style.display =\n",
              "          google.colab.kernel.accessAllowed ? 'block' : 'none';\n",
              "\n",
              "        async function convertToInteractive(key) {\n",
              "          const element = document.querySelector('#df-8c233ecc-ce82-4b33-8fe0-824e7b3cf194');\n",
              "          const dataTable =\n",
              "            await google.colab.kernel.invokeFunction('convertToInteractive',\n",
              "                                                     [key], {});\n",
              "          if (!dataTable) return;\n",
              "\n",
              "          const docLinkHtml = 'Like what you see? Visit the ' +\n",
              "            '<a target=\"_blank\" href=https://colab.research.google.com/notebooks/data_table.ipynb>data table notebook</a>'\n",
              "            + ' to learn more about interactive tables.';\n",
              "          element.innerHTML = '';\n",
              "          dataTable['output_type'] = 'display_data';\n",
              "          await google.colab.output.renderOutput(dataTable, element);\n",
              "          const docLink = document.createElement('div');\n",
              "          docLink.innerHTML = docLinkHtml;\n",
              "          element.appendChild(docLink);\n",
              "        }\n",
              "      </script>\n",
              "    </div>\n",
              "  </div>\n",
              "  "
            ],
            "text/plain": [
              "   x1^2   x2^2  x1*x2  x1   x2  1  class\n",
              "0     1   1.00    1.0   1  1.0  1      1\n",
              "1     1   1.00   -1.0   1 -1.0  1      1\n",
              "5    16  25.00   20.0   4  5.0  1      1\n",
              "2    -4  -6.25   -5.0  -2 -2.5 -1      2\n",
              "3     0  -4.00   -0.0   0 -2.0 -1      2\n",
              "4    -4  -9.00   -6.0  -2 -3.0 -1      2"
            ]
          },
          "metadata": {},
          "execution_count": 41
        }
      ]
    },
    {
      "cell_type": "code",
      "source": [
        "df_numpy = df.to_numpy()"
      ],
      "metadata": {
        "id": "4vVIjpYIwzQs"
      },
      "execution_count": null,
      "outputs": []
    },
    {
      "cell_type": "markdown",
      "source": [
        "# Performing Perceptron"
      ],
      "metadata": {
        "id": "xw2pfmXTp_Gl"
      }
    },
    {
      "cell_type": "markdown",
      "source": [
        "# **One At A Time **"
      ],
      "metadata": {
        "id": "iUXnY2x_fg9b"
      }
    },
    {
      "cell_type": "markdown",
      "source": [
        "All One"
      ],
      "metadata": {
        "id": "Uw69DfjZfmZU"
      }
    },
    {
      "cell_type": "code",
      "source": [
        "from numpy import arange\n",
        "O_l_one=[]\n",
        "O_iter_one=[]\n",
        "for i in arange(0.1,1.1,.1):\n",
        "  l_rate=i\n",
        "  i_weight_vector=np.array([1,1,1,1,1,1])\n",
        "  postiveCount=-1\n",
        "  iterations=0\n",
        "  while postiveCount!=0:\n",
        "    postiveCount=0\n",
        "    for index,values in enumerate(df_numpy):\n",
        "      result= np.dot(i_weight_vector,values[0:-1])  \n",
        "      if(result<=0):\n",
        "        i_weight_vector = i_weight_vector + l_rate*values[0:-1]\n",
        "        postiveCount=postiveCount+1\n",
        "    iterations=iterations+1\n",
        "  print(\"Learning Rate\",'%.2f'%l_rate,\"- Weight Vector: \",i_weight_vector,\"- Iteration\",iterations)\n",
        "  O_l_one.append(l_rate)\n",
        "  O_iter_one.append(iterations)\n"
      ],
      "metadata": {
        "colab": {
          "base_uri": "https://localhost:8080/"
        },
        "id": "ZA2GMNqBaJJe",
        "outputId": "2f47162c-2cb7-4066-f20a-e76f8fe3f52e"
      },
      "execution_count": null,
      "outputs": [
        {
          "output_type": "stream",
          "name": "stdout",
          "text": [
            "Learning Rate 0.10 - Weight Vector:  [ 1.    -1.025  0.7    0.2   -0.75   0.1  ] - Iteration 6\n",
            "Learning Rate 0.20 - Weight Vector:  [10.  -6.7  4.4 -1.2 -9.4  3.2] - Iteration 92\n",
            "Learning Rate 0.30 - Weight Vector:  [ 16.3 -10.7   6.7  -2.3 -15.2   5.5] - Iteration 104\n",
            "Learning Rate 0.40 - Weight Vector:  [ 22.2 -14.3   9.8  -2.6 -20.4   7.4] - Iteration 106\n",
            "Learning Rate 0.50 - Weight Vector:  [ 25.   -16.75  11.    -3.   -23.5    8.  ] - Iteration 93\n",
            "Learning Rate 0.60 - Weight Vector:  [ 29.2 -18.5  12.4  -4.4 -27.8   9.4] - Iteration 93\n",
            "Learning Rate 0.70 - Weight Vector:  [ 38.8   -25.075  17.1    -4.6   -35.75   12.9  ] - Iteration 108\n",
            "Learning Rate 0.80 - Weight Vector:  [ 45.8 -31.2  19.4  -5.4 -42.6  16.2] - Iteration 114\n",
            "Learning Rate 0.90 - Weight Vector:  [ 45.1  -30.05  19.9   -5.3  -42.2   14.5 ] - Iteration 94\n",
            "Learning Rate 1.00 - Weight Vector:  [ 50.  -33.5  22.   -6.  -47.   16. ] - Iteration 94\n"
          ]
        }
      ]
    },
    {
      "cell_type": "markdown",
      "source": [
        "All Zero"
      ],
      "metadata": {
        "id": "k0BgRwVCfwDc"
      }
    },
    {
      "cell_type": "code",
      "source": [
        "from numpy import arange\n",
        "O_l_Zero=[]\n",
        "O_iter_Zero=[]\n",
        "for i in arange(0.1,1.1,.1):\n",
        "  l_rate=i\n",
        "  i_weight_vector=np.array([0,0,0,0,0,0])\n",
        "  postiveCount=-1\n",
        "  iterations=0\n",
        "  while postiveCount!=0:\n",
        "    postiveCount=0\n",
        "    for index,values in enumerate(df_numpy):\n",
        "      result= np.dot(i_weight_vector,values[0:-1])  \n",
        "      if(result<=0):\n",
        "        i_weight_vector = i_weight_vector + l_rate*values[0:-1]\n",
        "        postiveCount=postiveCount+1\n",
        "    iterations=iterations+1\n",
        "  print(\"Learning Rate\",'%.2f'%l_rate,\"- Weight Vector: \",i_weight_vector,\"- Iteration\",iterations)\n",
        "  O_l_Zero.append(l_rate)\n",
        "  O_l_Zero.append(iterations)"
      ],
      "metadata": {
        "colab": {
          "base_uri": "https://localhost:8080/"
        },
        "id": "jQhy9HWhes7N",
        "outputId": "e9b9d919-261d-45c1-b00f-e84cef4aa36d"
      },
      "execution_count": null,
      "outputs": [
        {
          "output_type": "stream",
          "name": "stdout",
          "text": [
            "Learning Rate 0.10 - Weight Vector:  [ 5.   -3.35  2.2  -0.6  -4.7   1.6 ] - Iteration 94\n",
            "Learning Rate 0.20 - Weight Vector:  [10.  -6.7  4.4 -1.2 -9.4  3.2] - Iteration 94\n",
            "Learning Rate 0.30 - Weight Vector:  [ 15.   -10.05   6.6   -1.8  -14.1    4.8 ] - Iteration 94\n",
            "Learning Rate 0.40 - Weight Vector:  [ 20.  -13.4   8.8  -2.4 -18.8   6.4] - Iteration 94\n",
            "Learning Rate 0.50 - Weight Vector:  [ 25.   -16.75  11.    -3.   -23.5    8.  ] - Iteration 94\n",
            "Learning Rate 0.60 - Weight Vector:  [ 30.  -20.1  13.2  -3.6 -28.2   9.6] - Iteration 94\n",
            "Learning Rate 0.70 - Weight Vector:  [ 35.   -23.45  15.4   -4.2  -32.9   11.2 ] - Iteration 94\n",
            "Learning Rate 0.80 - Weight Vector:  [ 40.  -26.8  17.6  -4.8 -37.6  12.8] - Iteration 94\n",
            "Learning Rate 0.90 - Weight Vector:  [ 45.   -30.15  19.8   -5.4  -42.3   14.4 ] - Iteration 94\n",
            "Learning Rate 1.00 - Weight Vector:  [ 50.  -33.5  22.   -6.  -47.   16. ] - Iteration 94\n"
          ]
        }
      ]
    },
    {
      "cell_type": "markdown",
      "source": [
        "Random"
      ],
      "metadata": {
        "id": "gcLFFDknf3AU"
      }
    },
    {
      "cell_type": "code",
      "source": [
        "from numpy import arange\n",
        "\n",
        "for i in arange(0.1,1.1,.1):\n",
        "  l_rate=i\n",
        "  rng = np.random.default_rng(seed=10)\n",
        "  i_weight_vector=rng.random((6))\n",
        "  postiveCount=-1\n",
        "  iterations=0\n",
        "  while postiveCount!=0:\n",
        "    postiveCount=0\n",
        "    for index,values in enumerate(df_numpy):\n",
        "      result= np.dot(i_weight_vector,values[0:-1])  \n",
        "      if(result<=0):\n",
        "        i_weight_vector = i_weight_vector + l_rate*values[0:-1]\n",
        "        postiveCount=postiveCount+1\n",
        "    iterations=iterations+1\n",
        "  print(\"Learning Rate\",'%.2f'%l_rate,\"- Weight Vector: \",i_weight_vector,\"- Iteration\",iterations)\n"
      ],
      "metadata": {
        "colab": {
          "base_uri": "https://localhost:8080/"
        },
        "id": "s-38cOJKaJTU",
        "outputId": "fe0a9e41-e6a2-483c-c557-f33530224d28"
      },
      "execution_count": null,
      "outputs": [
        {
          "output_type": "stream",
          "name": "stdout",
          "text": [
            "Learning Rate 0.10 - Weight Vector:  [ 5.35600171 -3.44231819  2.02844489 -0.85071788 -4.48719538  1.6359196 ] - Iteration 94\n",
            "Learning Rate 0.20 - Weight Vector:  [10.15600171 -6.29231819  4.42844489 -1.45071788 -9.28719538  2.5359196 ] - Iteration 86\n",
            "Learning Rate 0.30 - Weight Vector:  [ 15.35600171  -9.24231819   6.22844489  -2.25071788 -14.18719538\n",
            "   4.6359196 ] - Iteration 92\n",
            "Learning Rate 0.40 - Weight Vector:  [ 20.95600171 -13.59231819   8.82844489  -3.05071788 -19.08719538\n",
            "   6.9359196 ] - Iteration 101\n",
            "Learning Rate 0.50 - Weight Vector:  [ 25.95600171 -17.04231819  10.82844489  -3.85071788 -23.98719538\n",
            "   8.6359196 ] - Iteration 100\n",
            "Learning Rate 0.60 - Weight Vector:  [ 30.95600171 -20.49231819  12.82844489  -4.65071788 -28.88719538\n",
            "  10.3359196 ] - Iteration 100\n",
            "Learning Rate 0.70 - Weight Vector:  [ 39.45600171 -25.86731819  16.22844489  -6.15071788 -36.93719538\n",
            "  13.4359196 ] - Iteration 113\n",
            "Learning Rate 0.80 - Weight Vector:  [ 45.75600171 -28.79231819  19.22844489  -6.25071788 -41.48719538\n",
            "  16.1359196 ] - Iteration 114\n",
            "Learning Rate 0.90 - Weight Vector:  [ 52.25600171 -33.09231819  23.32844489  -7.95071788 -48.98719538\n",
            "  15.4359196 ] - Iteration 112\n",
            "Learning Rate 1.00 - Weight Vector:  [ 55.95600171 -36.04231819  24.82844489  -6.85071788 -50.98719538\n",
            "  18.1359196 ] - Iteration 110\n"
          ]
        }
      ]
    },
    {
      "cell_type": "markdown",
      "source": [
        "# Multiple at a Time"
      ],
      "metadata": {
        "id": "kOXkTthlf8PX"
      }
    },
    {
      "cell_type": "markdown",
      "source": [
        "All One"
      ],
      "metadata": {
        "id": "XFI-x8ATgC-l"
      }
    },
    {
      "cell_type": "code",
      "source": [
        "from numpy import arange\n",
        "M_l_one=[]\n",
        "M_iter_one=[]\n",
        "for i in arange(0.1,1.1,.1):\n",
        "  l_rate=i\n",
        "  i_weight_vector=np.array([1,1,1,1,1,1])\n",
        "  \n",
        "  misClasses=[-1,-1]\n",
        "  sum=0\n",
        "  iterations=0\n",
        "  while len(misClasses)!=0:\n",
        "    misClasses=[]\n",
        "    for index,values in enumerate(df_numpy):\n",
        "      result= np.dot(i_weight_vector,values[0:-1])  \n",
        "      if(result<=0):\n",
        "        misClasses.append(index)\n",
        "    for classes in misClasses:\n",
        "        sum=sum + df_numpy[classes][0:-1]\n",
        "    i_weight_vector = i_weight_vector + l_rate*sum\n",
        "    iterations=iterations+1\n",
        "  print(\"Learning Rate\",'%.2f'%l_rate,\"- Weight Vector: \",i_weight_vector,\"- Iteration\",iterations)\n",
        "  M_l_one.append(l_rate)\n",
        "  M_iter_one.append(iterations) "
      ],
      "metadata": {
        "colab": {
          "base_uri": "https://localhost:8080/"
        },
        "id": "aELWaCT15233",
        "outputId": "51c23a85-eaac-4f9a-9e42-5f6e1d871ebf"
      },
      "execution_count": null,
      "outputs": [
        {
          "output_type": "stream",
          "name": "stdout",
          "text": [
            "Learning Rate 0.10 - Weight Vector:  [ 252.3 -144.2   87.7  -19.7 -207.7   56.7] - Iteration 84\n",
            "Learning Rate 0.20 - Weight Vector:  [ 358.2 -247.6  137.4   22.2 -318.2   68.6] - Iteration 68\n",
            "Learning Rate 0.30 - Weight Vector:  [ 937.9  -633.05  362.5    18.7  -802.7   180.4 ] - Iteration 92\n",
            "Learning Rate 0.40 - Weight Vector:  [ 1267.8  -905.8   469.4    37.4 -1089.8   270.2] - Iteration 94\n",
            "Learning Rate 0.50 - Weight Vector:  [1082.   -785.25  468.     27.   -906.5   178.  ] - Iteration 74\n",
            "Learning Rate 0.60 - Weight Vector:  [ 1283.2   -904.25   566.2     22.   -1076.9    191.8 ] - Iteration 73\n",
            "Learning Rate 0.70 - Weight Vector:  [ 1497.6   -1054.425   659.7      26.2   -1257.25    224.3  ] - Iteration 73\n",
            "Learning Rate 0.80 - Weight Vector:  [ 1418.6 -1072.    595.4    81.  -1195.4   258.6] - Iteration 67\n",
            "Learning Rate 0.90 - Weight Vector:  [ 1595.8   -1206.125   669.7      91.    -1344.95    290.8  ] - Iteration 67\n",
            "Learning Rate 1.00 - Weight Vector:  [ 1773.   -1340.25   744.     101.   -1494.5    323.  ] - Iteration 67\n"
          ]
        }
      ]
    },
    {
      "cell_type": "markdown",
      "source": [
        "All Zero"
      ],
      "metadata": {
        "id": "O9yYYSEmgHuq"
      }
    },
    {
      "cell_type": "code",
      "source": [
        "from numpy import arange\n",
        "\n",
        "for i in arange(0.1,1.1,.1):\n",
        "  l_rate=i\n",
        "  i_weight_vector=np.array([0,0,0,0,0,0])\n",
        "\n",
        "  misClasses=[-1,-1]\n",
        "  sum=0\n",
        "  iterations=0\n",
        "  while len(misClasses)!=0:\n",
        "    misClasses=[]\n",
        "    for index,values in enumerate(df_numpy):\n",
        "      result= np.dot(i_weight_vector,values[0:-1])  \n",
        "      if(result<=0):\n",
        "        misClasses.append(index)\n",
        "    for classes in misClasses:\n",
        "        sum=sum + df_numpy[classes][0:-1]\n",
        "    i_weight_vector = i_weight_vector + l_rate*sum\n",
        "    iterations=iterations+1\n",
        "  print(\"Learning Rate\",'%.2f'%l_rate,\"- Weight Vector: \",i_weight_vector,\"- Iteration\",iterations)\n"
      ],
      "metadata": {
        "colab": {
          "base_uri": "https://localhost:8080/"
        },
        "id": "q47-rAcuJ7t7",
        "outputId": "4c763445-1c19-43c1-9fbe-450da5cad9ce"
      },
      "execution_count": null,
      "outputs": [
        {
          "output_type": "stream",
          "name": "stdout",
          "text": [
            "Learning Rate 0.10 - Weight Vector:  [ 147.6 -102.8   49.4    2.  -122.2   34.1] - Iteration 61\n",
            "Learning Rate 0.20 - Weight Vector:  [ 295.2 -205.6   98.8    4.  -244.4   68.2] - Iteration 61\n",
            "Learning Rate 0.30 - Weight Vector:  [ 442.8 -308.4  148.2    6.  -366.6  102.3] - Iteration 61\n",
            "Learning Rate 0.40 - Weight Vector:  [ 590.4 -411.2  197.6    8.  -488.8  136.4] - Iteration 61\n",
            "Learning Rate 0.50 - Weight Vector:  [ 738.  -514.   247.    10.  -611.   170.5] - Iteration 61\n",
            "Learning Rate 0.60 - Weight Vector:  [ 885.6 -616.8  296.4   12.  -733.2  204.6] - Iteration 61\n",
            "Learning Rate 0.70 - Weight Vector:  [1033.2 -719.6  345.8   14.  -855.4  238.7] - Iteration 61\n",
            "Learning Rate 0.80 - Weight Vector:  [1180.8 -822.4  395.2   16.  -977.6  272.8] - Iteration 61\n",
            "Learning Rate 0.90 - Weight Vector:  [ 1328.4  -925.2   444.6    18.  -1099.8   306.9] - Iteration 61\n",
            "Learning Rate 1.00 - Weight Vector:  [ 1476. -1028.   494.    20. -1222.   341.] - Iteration 61\n"
          ]
        }
      ]
    },
    {
      "cell_type": "markdown",
      "source": [
        "Random"
      ],
      "metadata": {
        "id": "8vEkh3lAgJfN"
      }
    },
    {
      "cell_type": "code",
      "source": [
        "from numpy import arange\n",
        "rng = np.random.default_rng(seed=10)\n",
        "i_weight_vector=rng.random((6))\n",
        "print(i_weight_vector)\n",
        "for i in arange(0.1,1.1,.1):\n",
        "  l_rate=i\n",
        "  misClasses=[-1,-1]\n",
        "  sum=0\n",
        "  iterations=0\n",
        "  while len(misClasses)!=0:\n",
        "    misClasses=[]\n",
        "    for index,values in enumerate(df_numpy):\n",
        "      result= np.dot(i_weight_vector,values[0:-1])  \n",
        "      if(result<=0):\n",
        "        misClasses.append(index)\n",
        "    for classes in misClasses:\n",
        "        sum=sum + df_numpy[classes][0:-1]\n",
        "    i_weight_vector = i_weight_vector + l_rate*sum\n",
        "    iterations=iterations+1\n",
        "  print(\"Learning Rate\",'%.2f'%l_rate,\"- Weight Vector: \",i_weight_vector,\"- Iteration\",iterations)\n"
      ],
      "metadata": {
        "colab": {
          "base_uri": "https://localhost:8080/"
        },
        "id": "XEV-PbleLW3g",
        "outputId": "26ea9971-fddd-4f07-dc00-5df5f728f7d2"
      },
      "execution_count": null,
      "outputs": [
        {
          "output_type": "stream",
          "name": "stdout",
          "text": [
            "[0.95600171 0.20768181 0.82844489 0.14928212 0.51280462 0.1359196 ]\n",
            "Learning Rate 0.10 - Weight Vector:  [ 156.85600171  -90.01731819   47.62844489  -12.55071788 -142.83719538\n",
            "   40.0359196 ] - Iteration 71\n",
            "Learning Rate 0.20 - Weight Vector:  [ 157.25600171  -89.61731819   48.02844489  -12.15071788 -142.43719538\n",
            "   40.4359196 ] - Iteration 2\n",
            "Learning Rate 0.30 - Weight Vector:  [ 157.25600171  -89.61731819   48.02844489  -12.15071788 -142.43719538\n",
            "   40.4359196 ] - Iteration 1\n",
            "Learning Rate 0.40 - Weight Vector:  [ 157.25600171  -89.61731819   48.02844489  -12.15071788 -142.43719538\n",
            "   40.4359196 ] - Iteration 1\n",
            "Learning Rate 0.50 - Weight Vector:  [ 157.25600171  -89.61731819   48.02844489  -12.15071788 -142.43719538\n",
            "   40.4359196 ] - Iteration 1\n",
            "Learning Rate 0.60 - Weight Vector:  [ 157.25600171  -89.61731819   48.02844489  -12.15071788 -142.43719538\n",
            "   40.4359196 ] - Iteration 1\n",
            "Learning Rate 0.70 - Weight Vector:  [ 157.25600171  -89.61731819   48.02844489  -12.15071788 -142.43719538\n",
            "   40.4359196 ] - Iteration 1\n",
            "Learning Rate 0.80 - Weight Vector:  [ 157.25600171  -89.61731819   48.02844489  -12.15071788 -142.43719538\n",
            "   40.4359196 ] - Iteration 1\n",
            "Learning Rate 0.90 - Weight Vector:  [ 157.25600171  -89.61731819   48.02844489  -12.15071788 -142.43719538\n",
            "   40.4359196 ] - Iteration 1\n",
            "Learning Rate 1.00 - Weight Vector:  [ 157.25600171  -89.61731819   48.02844489  -12.15071788 -142.43719538\n",
            "   40.4359196 ] - Iteration 1\n"
          ]
        }
      ]
    },
    {
      "cell_type": "markdown",
      "source": [
        "Table "
      ],
      "metadata": {
        "id": "DjI0htRbgxIm"
      }
    },
    {
      "cell_type": "code",
      "source": [
        "from prettytable import PrettyTable \n",
        "myTable = PrettyTable([\"Learning Rate\", \"One at a time\",\"Many At A Time\"]) \n",
        "  \n",
        "for f, b,c in zip(M_l_one,O_iter_one, M_iter_one):\n",
        "  myTable.add_row(['%.2f'%f,b,c]) \n",
        "print(myTable)"
      ],
      "metadata": {
        "colab": {
          "base_uri": "https://localhost:8080/"
        },
        "id": "hwUUSarygwCn",
        "outputId": "b21a527f-b3d6-414a-8735-0d6820fb4620"
      },
      "execution_count": null,
      "outputs": [
        {
          "output_type": "stream",
          "name": "stdout",
          "text": [
            "+---------------+---------------+----------------+\n",
            "| Learning Rate | One at a time | Many At A Time |\n",
            "+---------------+---------------+----------------+\n",
            "|      0.10     |       6       |       84       |\n",
            "|      0.20     |       92      |       68       |\n",
            "|      0.30     |      104      |       92       |\n",
            "|      0.40     |      106      |       94       |\n",
            "|      0.50     |       93      |       74       |\n",
            "|      0.60     |       93      |       73       |\n",
            "|      0.70     |      108      |       73       |\n",
            "|      0.80     |      114      |       67       |\n",
            "|      0.90     |       94      |       67       |\n",
            "|      1.00     |       94      |       67       |\n",
            "+---------------+---------------+----------------+\n"
          ]
        }
      ]
    },
    {
      "cell_type": "markdown",
      "source": [
        "Plotting The Bar Chart"
      ],
      "metadata": {
        "id": "zymtdcbaqUk0"
      }
    },
    {
      "cell_type": "code",
      "source": [
        "import numpy as np\n",
        "import matplotlib.pyplot as plt\n",
        "\n",
        "index = np.arange(5)\n",
        "bar_width = 0.35\n",
        "for i in range(0,len(M_l_one)):\n",
        "    M_l_one[i]='%.2f'%M_l_one[i]\n",
        "data={'One at a time':O_iter_one,'Many At A Time':M_iter_one,'Learning Rate':M_l_one}\n",
        "df = pd.DataFrame(data)\n",
        "\n",
        "ax = df[[\"Learning Rate\",\"One at a time\", \"Many At A Time\"]].plot(x='Learning Rate', \n",
        "                                                      kind='bar', \n",
        "                                                      color=[\"g\",\"y\"],\n",
        "                                                      rot=45,figsize=(8,5))\n",
        "ax.set_ylabel('Score')\n",
        "ax.legend([\"One at a time\", \"Many At A Time\"],bbox_to_anchor = (1.05, 0.6));\n"
      ],
      "metadata": {
        "colab": {
          "base_uri": "https://localhost:8080/",
          "height": 346
        },
        "id": "IWSzwThgm_Tt",
        "outputId": "acfb78b9-49f2-419d-d023-b38ef192eec7"
      },
      "execution_count": null,
      "outputs": [
        {
          "output_type": "display_data",
          "data": {
            "image/png": "[encoded data removed]",
            "text/plain": [
              "<Figure size 576x360 with 1 Axes>"
            ]
          },
          "metadata": {
            "needs_background": "light"
          }
        }
      ]
    },
    {
      "cell_type": "markdown",
      "source": [
        "Ques-a (ans): We have taken high order dimension because the data points are not linearly seperable so we had to take higher dimension to seperate them."
      ],
      "metadata": {
        "id": "l9JVWxFbqre8"
      }
    }
  ]
}